{
  "nbformat": 4,
  "nbformat_minor": 0,
  "metadata": {
    "colab": {
      "name": "Mini Project.ipynb",
      "version": "0.3.2",
      "provenance": [],
      "collapsed_sections": [],
      "include_colab_link": true
    },
    "kernelspec": {
      "display_name": "Python 3",
      "language": "python",
      "name": "python3"
    }
  },
  "cells": [
    {
      "cell_type": "markdown",
      "metadata": {
        "id": "view-in-github",
        "colab_type": "text"
      },
      "source": [
        "<a href=\"https://colab.research.google.com/github/shubham-11700069/INT247-mini-Project-Occupancy/blob/master/Main.ipynb\" target=\"_parent\"><img src=\"https://colab.research.google.com/assets/colab-badge.svg\" alt=\"Open In Colab\"/></a>"
      ]
    },
    {
      "metadata": {
        "id": "Ncz6MGTTGdtd",
        "colab_type": "text"
      },
      "cell_type": "markdown",
      "source": [
        "***\n",
        "***\n",
        "## <font color=Black>Name: Shubham Garad &nbsp;&nbsp;&emsp;&emsp;&emsp;&emsp;&emsp;&emsp;&emsp;&emsp;&emsp;&emsp;&emsp;&emsp; Reg. No.: 11700069 <br>Roll No.: 62 &emsp;&emsp;&emsp;&emsp;&emsp;&emsp;&emsp;&emsp;&emsp;&emsp;&emsp;&emsp;&emsp;&emsp;&emsp;&emsp;&emsp;&emsp; Guided by: Sanjay Kumar Singh <br>Subject Code: INT247 </font>\n",
        "***\n",
        "<hr>"
      ]
    },
    {
      "metadata": {
        "id": "9tQ8WzEFGdtv",
        "colab_type": "text"
      },
      "cell_type": "markdown",
      "source": [
        "<h1><font color=Green>&emsp;&emsp;&emsp;&emsp;&emsp;&emsp;&emsp;&emsp;&emsp;&emsp;Minor project for Machine Learning </font></h1>\n",
        "***\n",
        "***"
      ]
    },
    {
      "metadata": {
        "id": "wOityFZiGdt4",
        "colab_type": "text"
      },
      "cell_type": "markdown",
      "source": [
        " <h3> Dataset Name: <font color=#cca300>Occupancy Detection Dataset</font> </h3>\n",
        " <h3> Dataset Url: 'https://archive.ics.uci.edu/ml/datasets/Occupancy+Detection+'</h3>\n",
        " <h3>Dataset Attribute Information:</h3>\n",
        "> **date- <font color=#008000> &emsp; *time year-month-day hour:minute:second*</font><br>\n",
        "Temperature- <font color=#008000> &emsp; *in Celsius*</font><br>\n",
        "Relative Humidity- <font color=#008000> &emsp; *%*</font><br>\n",
        "Light- <font color=#008000> &emsp; *in Lux*</font><br>\n",
        "CO2- <font color=#008000> &emsp; *in ppm*</font><br>\n",
        "Humidity Ratio- <font color=#008000> &emsp; *Derived quantity from temperature* </font><br>\n",
        "relative humidity- <font color=#008000> &emsp; *in kgwater-vapor/kg-air*</font><br>\n",
        "Occupancy- <font color=#008000> &emsp; *0 or 1, <font color= orange> 0</font> for not occupied, <font color=orange> 1</font> for occupied status*</font>**"
      ]
    },
    {
      "metadata": {
        "id": "MwiJJvr3GduF",
        "colab_type": "text"
      },
      "cell_type": "markdown",
      "source": [
        "  ***\n",
        "  - ### Abstract view of dataset\n",
        "  <img src = \"MinorProjectDataset.png\", alt=\"Abstract view of dataset\", title= \"Dataset Abstracts\">\n",
        "  "
      ]
    },
    {
      "metadata": {
        "id": "hrMx1MgUGduK",
        "colab_type": "text"
      },
      "cell_type": "markdown",
      "source": [
        "***\n",
        "- ### Loading the csv files"
      ]
    },
    {
      "metadata": {
        "id": "-JyTbSVBGduP",
        "colab_type": "code",
        "colab": {}
      },
      "cell_type": "code",
      "source": [
        "import pandas as pd\n",
        "import numpy as np\n",
        "import matplotlib.pyplot as plt\n",
        "dftrain=pd.read_csv(\"INT247-mini-Project-Occupancy-Data/datatraining.txt\") #Location of training dataset\n",
        "dftest1=pd.read_csv(\"INT247-mini-Project-Occupancy-Data/datatest.txt\") #Location of training dataset 1\n",
        "dftest2=pd.read_csv(\"INT247-mini-Project-Occupancy-Data/datatest2.txt\") #Location of training dataset 2"
      ],
      "execution_count": 0,
      "outputs": []
    },
    {
      "metadata": {
        "id": "UifSkOYhGdug",
        "colab_type": "text"
      },
      "cell_type": "markdown",
      "source": [
        "***\n",
        "- ### Building feature set"
      ]
    },
    {
      "metadata": {
        "id": "k5ZiUWMiGdun",
        "colab_type": "code",
        "colab": {}
      },
      "cell_type": "code",
      "source": [
        "#print(dftrain.shape)\n",
        "#print(dftrain.iloc[:2])\n",
        "x_train=dftrain.iloc[:,1:6]\n",
        "#print(x_train.shape)\n",
        "#print(x_train.iloc[:2])\n",
        "y_train=dftrain.iloc[:,6]\n",
        "#print(y_train.shape)\n",
        "#print(y_train.iloc[:2])"
      ],
      "execution_count": 0,
      "outputs": []
    },
    {
      "metadata": {
        "id": "aM5lY705Gduy",
        "colab_type": "text"
      },
      "cell_type": "markdown",
      "source": [
        "***\n",
        "- ### Creating Train-test split"
      ]
    },
    {
      "metadata": {
        "id": "Ia4IW3bIGdu3",
        "colab_type": "code",
        "colab": {}
      },
      "cell_type": "code",
      "source": [
        "#from sklearn.model_selection import train_test_split\n",
        "#x_train, x_test, y_train, y_test=train_test_split(x_train,y_train,test_size=0.3,random_state=1)\n",
        "#print(\"x_train shape=\",x_train.shape)\n",
        "#print(\"y_train shape=\",y_train.shape)\n",
        "#print(\"x_test shape=\",x_test.shape)\n",
        "#print(\"y_test shape=\",y_test.shape)"
      ],
      "execution_count": 0,
      "outputs": []
    },
    {
      "metadata": {
        "id": "Q7_PSyPWGdvG",
        "colab_type": "text"
      },
      "cell_type": "markdown",
      "source": [
        "***\n",
        "###  <font color=red> As the dataset is already splitted so we don't need to split it intresively </font>\n",
        "**Creating testing set 1**"
      ]
    },
    {
      "metadata": {
        "id": "ujG_aGX5GdvK",
        "colab_type": "code",
        "colab": {}
      },
      "cell_type": "code",
      "source": [
        "#print(dftest1.shape)\n",
        "#print(dftest1.iloc[:2])\n",
        "x_test1=dftest1.iloc[:,1:6]\n",
        "#print(x_test1.shape)\n",
        "#print(x_test1.iloc[:2])\n",
        "y_test1=dftest1.iloc[:,6]\n",
        "#print(y_test1.shape)\n",
        "#print(y_test1.iloc[:2])"
      ],
      "execution_count": 0,
      "outputs": []
    },
    {
      "metadata": {
        "id": "7qk70xh_Gdvd",
        "colab_type": "text"
      },
      "cell_type": "markdown",
      "source": [
        "**Creating testing set 2**"
      ]
    },
    {
      "metadata": {
        "id": "z2vphHJqGdvg",
        "colab_type": "code",
        "colab": {}
      },
      "cell_type": "code",
      "source": [
        "#print(dftest2.shape)\n",
        "#print(dftest2.iloc[:2])\n",
        "x_test2=dftest2.iloc[:,1:6]\n",
        "#print(x_test2.shape)\n",
        "#print(x_test2.iloc[:2])\n",
        "y_test2=dftest2.iloc[:,6]\n",
        "#print(y_test2.shape)\n",
        "#print(y_test2.iloc[:2])"
      ],
      "execution_count": 0,
      "outputs": []
    },
    {
      "metadata": {
        "id": "9seAX8kYGdvx",
        "colab_type": "text"
      },
      "cell_type": "markdown",
      "source": [
        "***\n",
        "- ### Standardizing the Occupancy"
      ]
    },
    {
      "metadata": {
        "id": "B4yHJYxyGdv2",
        "colab_type": "code",
        "colab": {}
      },
      "cell_type": "code",
      "source": [
        "from sklearn.preprocessing import StandardScaler\n",
        "sc=StandardScaler()\n",
        "sc.fit(x_train)\n",
        "x_train_std=sc.transform(x_train)\n",
        "x_test1_std=sc.transform(x_test1) ## for test set1\n",
        "x_test2_std=sc.transform(x_test2) ## for test set2\n",
        "#print(x_train_std)\n",
        "#print(x_test1_std)\n",
        "#print(x_test2_std)"
      ],
      "execution_count": 0,
      "outputs": []
    },
    {
      "metadata": {
        "id": "A1AblE3tGdwG",
        "colab_type": "text"
      },
      "cell_type": "markdown",
      "source": [
        "***\n",
        "- ### Evaluating the accuracy of SVM for C=1"
      ]
    },
    {
      "metadata": {
        "id": "-RTEYfreGdwU",
        "colab_type": "code",
        "colab": {
          "base_uri": "https://localhost:8080/",
          "height": 90
        },
        "outputId": "839c0a77-4d06-4486-90d5-da51d527ad3d"
      },
      "cell_type": "code",
      "source": [
        "from sklearn.svm import SVC\n",
        "from sklearn.metrics import accuracy_score\n",
        "svm=SVC(kernel='linear',C=1, random_state=1)\n",
        "svm.fit(x_train,y_train) # for non standard data\n",
        "y_pred1=svm.predict(x_test1)  ## predicting for test set 1\n",
        "y_pred2=svm.predict(x_test2)  ## predicting for test set 2\n",
        "print(\"Accuracy of SVM for 'non standardized' data for test set 1 with C=1 : '%.2f' \"%accuracy_score(y_pred1,y_test1))\n",
        "print(\"Accuracy of SVM for 'non standardized' data for test set 2 with C=1 : '%.2f' \"%accuracy_score(y_pred2,y_test2))\n",
        "svm.fit(x_train_std,y_train) # for standard data\n",
        "y_pred1_std=svm.predict(x_test1_std) ## predicting for test set 1\n",
        "y_pred2_std=svm.predict(x_test2_std) ## predicting for test set 2\n",
        "print(\"Accuracy of SVM for 'standardized' data for test set 1 with C=1 : '%.2f' \"%accuracy_score(y_pred1_std,y_test1))\n",
        "print(\"Accuracy of SVM for 'standardized' data for test set 2 with C=1 : '%.2f' \"%accuracy_score(y_pred2_std,y_test2))"
      ],
      "execution_count": 152,
      "outputs": [
        {
          "output_type": "stream",
          "text": [
            "Accuracy of SVM for 'non standardized' data for test set 1 with C=1 : '0.98' \n",
            "Accuracy of SVM for 'non standardized' data for test set 2 with C=1 : '0.99' \n",
            "Accuracy of SVM for 'standardized' data for test set 1 with C=1 : '0.98' \n",
            "Accuracy of SVM for 'standardized' data for test set 2 with C=1 : '0.99' \n"
          ],
          "name": "stdout"
        }
      ]
    },
    {
      "metadata": {
        "id": "k415b19pGdwl",
        "colab_type": "text"
      },
      "cell_type": "markdown",
      "source": [
        "***\n",
        "- ### Finding the best C from 0 to 10 and kernels= linear, rbf"
      ]
    },
    {
      "metadata": {
        "id": "oT_fk-T2J0a_",
        "colab_type": "code",
        "colab": {}
      },
      "cell_type": "code",
      "source": [
        "ls_y_pred1=[[],[]]\n",
        "ls_y_pred2=[[],[]]\n",
        "ls_y_pred1_std=[[],[]]\n",
        "ls_y_pred2_std=[[],[]] # 2d list row 1 for rbf and row 2 for linear kernel\n",
        "ls_models=[[],[],[],[]]"
      ],
      "execution_count": 0,
      "outputs": []
    },
    {
      "metadata": {
        "id": "Ym1fLcmpGdwt",
        "colab_type": "code",
        "colab": {}
      },
      "cell_type": "code",
      "source": [
        "for j in range(1,10):\n",
        "        svm=SVC(kernel='rbf',gamma=0.7, C=j, random_state=1)\n",
        "        ls_models[0].append(svm.fit(x_train,y_train))  ##ls_model is used afterwoeds for svm ploting\n",
        "        y_pred1=svm.predict(x_test1)\n",
        "        acc_y_pred1=accuracy_score(y_pred1,y_test1)\n",
        "        y_pred2=svm.predict(x_test2)\n",
        "        acc_y_pred2=accuracy_score(y_pred2,y_test2)\n",
        "        #print(\"Accuracy of SVM for non standardized data for test set 1 with kernel=rbf : '%.2f' \"%(acc_y_pred1))\n",
        "        ls_y_pred1[0].append(acc_y_pred1)\n",
        "        #print(\"Accuracy of SVM for non standardized data for test set 2 with kernel=rbf : '%.2f' \"%(acc_y_pred2))\n",
        "        ls_y_pred2[0].append(acc_y_pred2)\n",
        "        \n",
        "        ########################### for standardized data ###########################\n",
        "        \n",
        "        ls_models[1].append(svm.fit(x_train_std,y_train))\n",
        "        y_pred1_std=svm.predict(x_test1_std)\n",
        "        acc_y_pred1_std=accuracy_score(y_pred1_std,y_test1)\n",
        "        y_pred2_std=svm.predict(x_test2_std)\n",
        "        acc_y_pred2_std=accuracy_score(y_pred2_std,y_test2)\n",
        "        #print(\"Accuracy of SVM for standardized data for test set 1 with kernel=rbf : '%.2f' \"%(acc_y_pred1_std))\n",
        "        ls_y_pred1_std[0].append(acc_y_pred1_std)\n",
        "        #print(\"Accuracy of SVM for standardized data for test set 2 with kernel=rbf : '%.2f' \"%(acc_y_pred2_std))    \n",
        "        ls_y_pred2_std[0].append(acc_y_pred2_std)    "
      ],
      "execution_count": 0,
      "outputs": []
    },
    {
      "metadata": {
        "id": "I2a_RfNRKHqo",
        "colab_type": "code",
        "colab": {}
      },
      "cell_type": "code",
      "source": [
        "for j in range(1,10):\n",
        "        svm=SVC(kernel='linear', C=j, random_state=1)\n",
        "        ls_models[2].append(svm.fit(x_train,y_train))\n",
        "        y_pred1=svm.predict(x_test1)\n",
        "        acc_y_pred1=accuracy_score(y_pred1,y_test1)\n",
        "        y_pred2=svm.predict(x_test2)\n",
        "        acc_y_pred2=accuracy_score(y_pred2,y_test2)\n",
        "        #print(\"Accuracy of SVM for non standardized data for test set 1 with kernel=linear : '%.2f' \"%(acc_y_pred1))\n",
        "        ls_y_pred1[1].append(acc_y_pred1)\n",
        "        #print(\"Accuracy of SVM for non standardized data for test set 2 with kernel=linear : '%.2f' \"%(acc_y_pred2))\n",
        "        ls_y_pred2[1].append(acc_y_pred2)\n",
        "        \n",
        "        ########################### for standardized data ###########################\n",
        "        \n",
        "        ls_models[3].append(svm.fit(x_train_std,y_train))\n",
        "        y_pred1_std=svm.predict(x_test1_std)\n",
        "        acc_y_pred1_std=accuracy_score(y_pred1_std,y_test1)\n",
        "        y_pred2_std=svm.predict(x_test2_std)\n",
        "        acc_y_pred2_std=accuracy_score(y_pred2_std,y_test2)\n",
        "        #print(\"Accuracy of SVM for standardized data for test set 1 with kernel=linear : '%.2f' \"%(acc_y_pred1_std))\n",
        "        ls_y_pred1_std[1].append(acc_y_pred1_std)\n",
        "        #print(\"Accuracy of SVM for standardized data for test set 2 with kernel=linear : '%.2f' \"%(acc_y_pred2_std))    \n",
        "        ls_y_pred2_std[1].append(acc_y_pred2_std) "
      ],
      "execution_count": 0,
      "outputs": []
    },
    {
      "metadata": {
        "id": "N2ocgTgJ3CFv",
        "colab_type": "text"
      },
      "cell_type": "markdown",
      "source": [
        "***\n",
        "## <font color=\"red\"> <center>Visulalizing the Results and Compairing Performances</center></font>\n",
        "***\n",
        "<br>\n",
        "- **Ploting for different values of C **\n",
        "\n",
        "*   List item\n",
        "*   List item\n",
        "\n"
      ]
    },
    {
      "metadata": {
        "id": "DKo4Xfps2Mm1",
        "colab_type": "code",
        "colab": {
          "base_uri": "https://localhost:8080/",
          "height": 735
        },
        "outputId": "3d211434-8da7-4d59-fdce-75d985fecd63"
      },
      "cell_type": "code",
      "source": [
        "#print(ls_y_pred1[0])\n",
        "#print(ls_y_pred1[1])\n",
        "plt.figure()\n",
        "plt.plot(np.arange(1,10), ls_y_pred1[0],label=\"test 1\", color=\"black\")\n",
        "plt.plot(np.arange(1,10), ls_y_pred2[0],label=\"test 2\", color=\"lime\")\n",
        "plt.plot(np.arange(1,10), ls_y_pred1_std[0], label=\"standard test 1\", color=\"slateblue\")\n",
        "plt.plot(np.arange(1,10), ls_y_pred2_std[0],label=\"standard test 2\", color=\"red\")\n",
        "plt.ylabel('Accuracy')\n",
        "plt.xlabel('Value of C')\n",
        "plt.axis([0,10,0.6,1])\n",
        "plt.title(\"For 'RBF' kernel\")\n",
        "plt.legend()\n",
        "plt.show()\n",
        "\n",
        "plt.plot(np.arange(1,10), ls_y_pred1[1],label=\"test 1\", color=\"black\" )\n",
        "plt.plot(np.arange(1,10), ls_y_pred2[1],label=\"test 2\", color=\"lime\")\n",
        "plt.plot(np.arange(1,10), ls_y_pred1_std[1], label=\"standard test 1\", color=\"lightgreen\")\n",
        "plt.plot(np.arange(1,10), ls_y_pred2_std[1],label=\"standard test 2\", color=\"red\")\n",
        "plt.ylabel('Accuracy')\n",
        "plt.xlabel('Value of C')\n",
        "plt.axis([0,10,0.96,1])\n",
        "plt.title(\"For 'Linear' kernel\")\n",
        "plt.legend()\n",
        "plt.show()\n"
      ],
      "execution_count": 150,
      "outputs": [
        {
          "output_type": "display_data",
          "data": {
            "image/png": "[encoded data removed]",
            "text/plain": [
              "<Figure size 576x396 with 1 Axes>"
            ]
          },
          "metadata": {
            "tags": []
          }
        },
        {
          "output_type": "display_data",
          "data": {
            "image/png": "[encoded data removed]",
            "text/plain": [
              "<Figure size 576x396 with 1 Axes>"
            ]
          },
          "metadata": {
            "tags": []
          }
        }
      ]
    },
    {
      "metadata": {
        "id": "SJe3OidD4E6B",
        "colab_type": "text"
      },
      "cell_type": "markdown",
      "source": [
        "***\n",
        "- **Compairing over Rbf and Linear K![alt text](https://)ernel **"
      ]
    },
    {
      "metadata": {
        "id": "CF22aNty4REz",
        "colab_type": "code",
        "colab": {
          "base_uri": "https://localhost:8080/",
          "height": 376
        },
        "outputId": "aa91bfe7-88ef-4881-d131-f070d0327248"
      },
      "cell_type": "code",
      "source": [
        "plt.figure()\n",
        "plt.subplot(221)\n",
        "plt.plot(np.arange(1,10), ls_y_pred1[0],label=\"test 1\", color=\"black\")\n",
        "plt.plot(np.arange(1,10), ls_y_pred1[1],label=\"test 1\", color=\"red\")\n",
        "plt.ylabel('Accuracy')\n",
        "plt.xlabel('Value of C')\n",
        "plt.axis([0,10,0.65,1])\n",
        "plt.title(\"For non stadard Data test set 1\")\n",
        "plt.legend()\n",
        "\n",
        "plt.subplot(222)\n",
        "plt.plot(np.arange(1,10), ls_y_pred2[0],label=\"test 2\", color=\"black\")\n",
        "plt.plot(np.arange(1,10), ls_y_pred2[1],label=\"test 2\", color=\"red\")\n",
        "plt.ylabel('Accuracy')\n",
        "plt.xlabel('Value of C')\n",
        "plt.axis([0,10,0.75,1])\n",
        "plt.title(\"For non stadard Data test set 2\")\n",
        "plt.legend()\n",
        "\n",
        "plt.subplot(223)\n",
        "plt.plot(np.arange(1,10), ls_y_pred1_std[0], label=\"standard test 1\", color=\"black\")\n",
        "plt.plot(np.arange(1,10), ls_y_pred1_std[1], label=\"standard test 1\", color=\"red\")\n",
        "plt.ylabel('Accuracy')\n",
        "plt.xlabel('Value of C')\n",
        "plt.axis([0,10,0.8,1])\n",
        "plt.title(\"For Stadard Data test set 1\")\n",
        "plt.legend()\n",
        "\n",
        "plt.subplot(224)\n",
        "plt.plot(np.arange(1,10), ls_y_pred2_std[0],label=\"standard test 2\", color=\"black\")\n",
        "plt.plot(np.arange(1,10), ls_y_pred2_std[1],label=\"standard test 2\", color=\"red\")\n",
        "plt.ylabel('Accuracy')\n",
        "plt.xlabel('Value of C')\n",
        "plt.axis([0,10,0.9,1])\n",
        "plt.title(\"For Standard Data test set 2\")\n",
        "plt.legend()\n",
        "plt.show()\n"
      ],
      "execution_count": 129,
      "outputs": [
        {
          "output_type": "display_data",
          "data": {
            "image/png": "[encoded data removed]",
            "text/plain": [
              "<Figure size 576x396 with 4 Axes>"
            ]
          },
          "metadata": {
            "tags": []
          }
        }
      ]
    },
    {
      "metadata": {
        "id": "QHnggwMg6c8i",
        "colab_type": "text"
      },
      "cell_type": "markdown",
      "source": [
        "***\n",
        "- ## <font color='lawngreen'>Comparing Performance with histogram</font>\n",
        "***"
      ]
    },
    {
      "metadata": {
        "id": "CSEzwepq62_a",
        "colab_type": "code",
        "colab": {
          "base_uri": "https://localhost:8080/",
          "height": 347
        },
        "outputId": "f890acc4-a316-43cc-adcc-27067b394d9e"
      },
      "cell_type": "code",
      "source": [
        "plt.figure()\n",
        "\n",
        "plt.hist(['test 1.1','test 1.2', 'test 2.1', 'test 2.2', 'std test 1.1','std test 1.2', 'std test 2.1','std test 2.2'],\n",
        "         bins=8, histtype='bar', align='mid', rwidth=0.3,\n",
        "         weights=[np.average(ls_y_pred1[0]),np.average(ls_y_pred1[1]),np.average(ls_y_pred2[0]),np.average(ls_y_pred2[1]),np.average(ls_y_pred1_std[0]),\n",
        "                  np.average(ls_y_pred1_std[1]),np.average(ls_y_pred2_std[0]),np.average(ls_y_pred2_std[1])],orientation='vertical')\n",
        "plt.plot(['test 1.1', 'test 2.1','std test 1.1', 'std test 2.1'],[np.average(ls_y_pred1[0]),np.average(ls_y_pred2[0]),np.average(ls_y_pred1_std[0]),np.average(ls_y_pred2_std[0])],color=\"black\")\n",
        "plt.plot(['test 1.2', 'test 2.2','std test 1.2', 'std test 2.2'],[np.average(ls_y_pred1[1]),np.average(ls_y_pred2[1]),np.average(ls_y_pred1_std[1]),np.average(ls_y_pred2_std[1])],color=\"red\")\n",
        "plt.show()"
      ],
      "execution_count": 149,
      "outputs": [
        {
          "output_type": "display_data",
          "data": {
            "image/png": "[encoded data removed]",
            "text/plain": [
              "<Figure size 576x396 with 1 Axes>"
            ]
          },
          "metadata": {
            "tags": []
          }
        }
      ]
    }
  ]
}